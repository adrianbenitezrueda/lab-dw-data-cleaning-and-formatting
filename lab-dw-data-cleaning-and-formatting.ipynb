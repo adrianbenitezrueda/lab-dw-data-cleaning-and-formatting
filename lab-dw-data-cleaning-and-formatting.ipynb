{
  "cells": [
    {
      "cell_type": "markdown",
      "id": "25d7736c-ba17-4aff-b6bb-66eba20fbf4e",
      "metadata": {
        "id": "25d7736c-ba17-4aff-b6bb-66eba20fbf4e"
      },
      "source": [
        "# Lab | Data Cleaning and Formatting"
      ]
    },
    {
      "cell_type": "markdown",
      "id": "d1973e9e-8be6-4039-b70e-d73ee0d94c99",
      "metadata": {
        "id": "d1973e9e-8be6-4039-b70e-d73ee0d94c99"
      },
      "source": [
        "In this lab, we will be working with the customer data from an insurance company, which can be found in the CSV file located at the following link: https://raw.githubusercontent.com/data-bootcamp-v4/data/main/file1.csv\n"
      ]
    },
    {
      "cell_type": "markdown",
      "id": "31b8a9e7-7db9-4604-991b-ef6771603e57",
      "metadata": {
        "id": "31b8a9e7-7db9-4604-991b-ef6771603e57"
      },
      "source": [
        "# Challenge 1: Data Cleaning and Formatting"
      ]
    },
    {
      "cell_type": "markdown",
      "id": "81553f19-9f2c-484b-8940-520aff884022",
      "metadata": {
        "id": "81553f19-9f2c-484b-8940-520aff884022"
      },
      "source": [
        "## Exercise 1: Cleaning Column Names"
      ]
    },
    {
      "cell_type": "markdown",
      "id": "34a929f4-1be4-4fa8-adda-42ffd920be90",
      "metadata": {
        "id": "34a929f4-1be4-4fa8-adda-42ffd920be90"
      },
      "source": [
        "To ensure consistency and ease of use, standardize the column names of the dataframe. Start by taking a first look at the dataframe and identifying any column names that need to be modified. Use appropriate naming conventions and make sure that column names are descriptive and informative.\n",
        "\n",
        "*Hint*:\n",
        "- *Column names should be in lower case*\n",
        "- *White spaces in column names should be replaced by `_`*\n",
        "- *`st` could be replaced for `state`*"
      ]
    },
    {
      "cell_type": "code",
      "execution_count": 197,
      "id": "5810735c-8056-4442-bbf2-dda38d3e284a",
      "metadata": {
        "id": "5810735c-8056-4442-bbf2-dda38d3e284a"
      },
      "outputs": [],
      "source": [
        "# Import pandas\n",
        "import pandas as pd\n"
      ]
    },
    {
      "cell_type": "code",
      "execution_count": 198,
      "id": "f3c4007d",
      "metadata": {},
      "outputs": [
        {
          "data": {
            "text/html": [
              "<div>\n",
              "<style scoped>\n",
              "    .dataframe tbody tr th:only-of-type {\n",
              "        vertical-align: middle;\n",
              "    }\n",
              "\n",
              "    .dataframe tbody tr th {\n",
              "        vertical-align: top;\n",
              "    }\n",
              "\n",
              "    .dataframe thead th {\n",
              "        text-align: right;\n",
              "    }\n",
              "</style>\n",
              "<table border=\"1\" class=\"dataframe\">\n",
              "  <thead>\n",
              "    <tr style=\"text-align: right;\">\n",
              "      <th></th>\n",
              "      <th>customer</th>\n",
              "      <th>state</th>\n",
              "      <th>gender</th>\n",
              "      <th>education</th>\n",
              "      <th>customer_lifetime_value</th>\n",
              "      <th>income</th>\n",
              "      <th>monthly_premium_auto</th>\n",
              "      <th>number_of_open_complaints</th>\n",
              "      <th>policy_type</th>\n",
              "      <th>vehicle_class</th>\n",
              "      <th>total_claim_amount</th>\n",
              "    </tr>\n",
              "  </thead>\n",
              "  <tbody>\n",
              "    <tr>\n",
              "      <th>0</th>\n",
              "      <td>RB50392</td>\n",
              "      <td>Washington</td>\n",
              "      <td>NaN</td>\n",
              "      <td>Master</td>\n",
              "      <td>NaN</td>\n",
              "      <td>0.0</td>\n",
              "      <td>1000.0</td>\n",
              "      <td>1/0/00</td>\n",
              "      <td>Personal Auto</td>\n",
              "      <td>Four-Door Car</td>\n",
              "      <td>2.704934</td>\n",
              "    </tr>\n",
              "    <tr>\n",
              "      <th>1</th>\n",
              "      <td>QZ44356</td>\n",
              "      <td>Arizona</td>\n",
              "      <td>F</td>\n",
              "      <td>Bachelor</td>\n",
              "      <td>697953.59%</td>\n",
              "      <td>0.0</td>\n",
              "      <td>94.0</td>\n",
              "      <td>1/0/00</td>\n",
              "      <td>Personal Auto</td>\n",
              "      <td>Four-Door Car</td>\n",
              "      <td>1131.464935</td>\n",
              "    </tr>\n",
              "    <tr>\n",
              "      <th>2</th>\n",
              "      <td>AI49188</td>\n",
              "      <td>Nevada</td>\n",
              "      <td>F</td>\n",
              "      <td>Bachelor</td>\n",
              "      <td>1288743.17%</td>\n",
              "      <td>48767.0</td>\n",
              "      <td>108.0</td>\n",
              "      <td>1/0/00</td>\n",
              "      <td>Personal Auto</td>\n",
              "      <td>Two-Door Car</td>\n",
              "      <td>566.472247</td>\n",
              "    </tr>\n",
              "    <tr>\n",
              "      <th>3</th>\n",
              "      <td>WW63253</td>\n",
              "      <td>California</td>\n",
              "      <td>M</td>\n",
              "      <td>Bachelor</td>\n",
              "      <td>764586.18%</td>\n",
              "      <td>0.0</td>\n",
              "      <td>106.0</td>\n",
              "      <td>1/0/00</td>\n",
              "      <td>Corporate Auto</td>\n",
              "      <td>SUV</td>\n",
              "      <td>529.881344</td>\n",
              "    </tr>\n",
              "    <tr>\n",
              "      <th>4</th>\n",
              "      <td>GA49547</td>\n",
              "      <td>Washington</td>\n",
              "      <td>M</td>\n",
              "      <td>High School or Below</td>\n",
              "      <td>536307.65%</td>\n",
              "      <td>36357.0</td>\n",
              "      <td>68.0</td>\n",
              "      <td>1/0/00</td>\n",
              "      <td>Personal Auto</td>\n",
              "      <td>Four-Door Car</td>\n",
              "      <td>17.269323</td>\n",
              "    </tr>\n",
              "    <tr>\n",
              "      <th>...</th>\n",
              "      <td>...</td>\n",
              "      <td>...</td>\n",
              "      <td>...</td>\n",
              "      <td>...</td>\n",
              "      <td>...</td>\n",
              "      <td>...</td>\n",
              "      <td>...</td>\n",
              "      <td>...</td>\n",
              "      <td>...</td>\n",
              "      <td>...</td>\n",
              "      <td>...</td>\n",
              "    </tr>\n",
              "    <tr>\n",
              "      <th>4003</th>\n",
              "      <td>NaN</td>\n",
              "      <td>NaN</td>\n",
              "      <td>NaN</td>\n",
              "      <td>NaN</td>\n",
              "      <td>NaN</td>\n",
              "      <td>NaN</td>\n",
              "      <td>NaN</td>\n",
              "      <td>NaN</td>\n",
              "      <td>NaN</td>\n",
              "      <td>NaN</td>\n",
              "      <td>NaN</td>\n",
              "    </tr>\n",
              "    <tr>\n",
              "      <th>4004</th>\n",
              "      <td>NaN</td>\n",
              "      <td>NaN</td>\n",
              "      <td>NaN</td>\n",
              "      <td>NaN</td>\n",
              "      <td>NaN</td>\n",
              "      <td>NaN</td>\n",
              "      <td>NaN</td>\n",
              "      <td>NaN</td>\n",
              "      <td>NaN</td>\n",
              "      <td>NaN</td>\n",
              "      <td>NaN</td>\n",
              "    </tr>\n",
              "    <tr>\n",
              "      <th>4005</th>\n",
              "      <td>NaN</td>\n",
              "      <td>NaN</td>\n",
              "      <td>NaN</td>\n",
              "      <td>NaN</td>\n",
              "      <td>NaN</td>\n",
              "      <td>NaN</td>\n",
              "      <td>NaN</td>\n",
              "      <td>NaN</td>\n",
              "      <td>NaN</td>\n",
              "      <td>NaN</td>\n",
              "      <td>NaN</td>\n",
              "    </tr>\n",
              "    <tr>\n",
              "      <th>4006</th>\n",
              "      <td>NaN</td>\n",
              "      <td>NaN</td>\n",
              "      <td>NaN</td>\n",
              "      <td>NaN</td>\n",
              "      <td>NaN</td>\n",
              "      <td>NaN</td>\n",
              "      <td>NaN</td>\n",
              "      <td>NaN</td>\n",
              "      <td>NaN</td>\n",
              "      <td>NaN</td>\n",
              "      <td>NaN</td>\n",
              "    </tr>\n",
              "    <tr>\n",
              "      <th>4007</th>\n",
              "      <td>NaN</td>\n",
              "      <td>NaN</td>\n",
              "      <td>NaN</td>\n",
              "      <td>NaN</td>\n",
              "      <td>NaN</td>\n",
              "      <td>NaN</td>\n",
              "      <td>NaN</td>\n",
              "      <td>NaN</td>\n",
              "      <td>NaN</td>\n",
              "      <td>NaN</td>\n",
              "      <td>NaN</td>\n",
              "    </tr>\n",
              "  </tbody>\n",
              "</table>\n",
              "<p>4008 rows × 11 columns</p>\n",
              "</div>"
            ],
            "text/plain": [
              "     customer       state gender             education  \\\n",
              "0     RB50392  Washington    NaN                Master   \n",
              "1     QZ44356     Arizona      F              Bachelor   \n",
              "2     AI49188      Nevada      F              Bachelor   \n",
              "3     WW63253  California      M              Bachelor   \n",
              "4     GA49547  Washington      M  High School or Below   \n",
              "...       ...         ...    ...                   ...   \n",
              "4003      NaN         NaN    NaN                   NaN   \n",
              "4004      NaN         NaN    NaN                   NaN   \n",
              "4005      NaN         NaN    NaN                   NaN   \n",
              "4006      NaN         NaN    NaN                   NaN   \n",
              "4007      NaN         NaN    NaN                   NaN   \n",
              "\n",
              "     customer_lifetime_value   income  monthly_premium_auto  \\\n",
              "0                        NaN      0.0                1000.0   \n",
              "1                 697953.59%      0.0                  94.0   \n",
              "2                1288743.17%  48767.0                 108.0   \n",
              "3                 764586.18%      0.0                 106.0   \n",
              "4                 536307.65%  36357.0                  68.0   \n",
              "...                      ...      ...                   ...   \n",
              "4003                     NaN      NaN                   NaN   \n",
              "4004                     NaN      NaN                   NaN   \n",
              "4005                     NaN      NaN                   NaN   \n",
              "4006                     NaN      NaN                   NaN   \n",
              "4007                     NaN      NaN                   NaN   \n",
              "\n",
              "     number_of_open_complaints     policy_type  vehicle_class  \\\n",
              "0                       1/0/00   Personal Auto  Four-Door Car   \n",
              "1                       1/0/00   Personal Auto  Four-Door Car   \n",
              "2                       1/0/00   Personal Auto   Two-Door Car   \n",
              "3                       1/0/00  Corporate Auto            SUV   \n",
              "4                       1/0/00   Personal Auto  Four-Door Car   \n",
              "...                        ...             ...            ...   \n",
              "4003                       NaN             NaN            NaN   \n",
              "4004                       NaN             NaN            NaN   \n",
              "4005                       NaN             NaN            NaN   \n",
              "4006                       NaN             NaN            NaN   \n",
              "4007                       NaN             NaN            NaN   \n",
              "\n",
              "      total_claim_amount  \n",
              "0               2.704934  \n",
              "1            1131.464935  \n",
              "2             566.472247  \n",
              "3             529.881344  \n",
              "4              17.269323  \n",
              "...                  ...  \n",
              "4003                 NaN  \n",
              "4004                 NaN  \n",
              "4005                 NaN  \n",
              "4006                 NaN  \n",
              "4007                 NaN  \n",
              "\n",
              "[4008 rows x 11 columns]"
            ]
          },
          "execution_count": 198,
          "metadata": {},
          "output_type": "execute_result"
        }
      ],
      "source": [
        "# Exercise 1: Cleaning Column Names\n",
        "df_cars_policies = pd.read_csv(\"https://raw.githubusercontent.com/data-bootcamp-v4/data/main/file1.csv\") # Leer la database desde un CSV\n",
        "df_cars_policies.rename(columns={\"ST\": \"STATE\"}, inplace = True) #Cambiar nombre de columna\n",
        "df_cars_policies.columns = df_cars_policies.columns.str.lower().str.replace(\" \", \"_\") # Poner todos los nombres de columna en minúscula\n",
        "df_cars_policies"
      ]
    },
    {
      "cell_type": "markdown",
      "id": "9cb501ec-36ff-4589-b872-6252bb150316",
      "metadata": {
        "id": "9cb501ec-36ff-4589-b872-6252bb150316"
      },
      "source": [
        "## Exercise 2: Cleaning invalid Values"
      ]
    },
    {
      "cell_type": "markdown",
      "id": "771fdcf3-8e20-4b06-9c24-3a93ba2b0909",
      "metadata": {
        "id": "771fdcf3-8e20-4b06-9c24-3a93ba2b0909"
      },
      "source": [
        "The dataset contains columns with inconsistent and incorrect values that could affect the accuracy of our analysis. Therefore, we need to clean these columns to ensure that they only contain valid data.\n",
        "\n",
        "Note that this exercise will focus only on cleaning inconsistent values and will not involve handling null values (NaN or None).\n",
        "\n",
        "*Hint*:\n",
        "- *Gender column contains various inconsistent values such as \"F\", \"M\", \"Femal\", \"Male\", \"female\", which need to be standardized, for example, to \"M\" and \"F\".*\n",
        "- *State abbreviations be can replaced with its full name, for example \"AZ\": \"Arizona\", \"Cali\": \"California\", \"WA\": \"Washington\"*\n",
        "- *In education, \"Bachelors\" could be replaced by \"Bachelor\"*\n",
        "- *In Customer Lifetime Value, delete the `%` character*\n",
        "- *In vehicle class, \"Sports Car\", \"Luxury SUV\" and \"Luxury Car\" could be replaced by \"Luxury\"*"
      ]
    },
    {
      "cell_type": "code",
      "execution_count": 199,
      "id": "73ac5876",
      "metadata": {},
      "outputs": [],
      "source": [
        "# Exercise 2: Cleaning invalid Values"
      ]
    },
    {
      "cell_type": "code",
      "execution_count": 200,
      "id": "cf56dc19",
      "metadata": {},
      "outputs": [
        {
          "data": {
            "text/plain": [
              "array([nan, 'F', 'M', 'Femal', 'Male', 'female'], dtype=object)"
            ]
          },
          "execution_count": 200,
          "metadata": {},
          "output_type": "execute_result"
        }
      ],
      "source": [
        "# Verificar valores únicos columna gender\n",
        "df_cars_policies.gender.unique()"
      ]
    },
    {
      "cell_type": "code",
      "execution_count": 201,
      "id": "01d3b2f6",
      "metadata": {},
      "outputs": [
        {
          "data": {
            "text/plain": [
              "gender\n",
              "F         457\n",
              "M         413\n",
              "Male       39\n",
              "female     28\n",
              "Femal      17\n",
              "Name: count, dtype: int64"
            ]
          },
          "execution_count": 201,
          "metadata": {},
          "output_type": "execute_result"
        }
      ],
      "source": [
        "df_cars_policies.gender.value_counts()\n"
      ]
    },
    {
      "cell_type": "code",
      "execution_count": 202,
      "id": "9c0cd5aa",
      "metadata": {},
      "outputs": [
        {
          "data": {
            "text/plain": [
              "gender\n",
              "F    502\n",
              "M    452\n",
              "Name: count, dtype: int64"
            ]
          },
          "execution_count": 202,
          "metadata": {},
          "output_type": "execute_result"
        }
      ],
      "source": [
        "# Corregir valores de género (CON OPCIÓN MAP Y FILL NA)\n",
        "# ESTO ES MEJOR EVITARLO, y siempre que podamos generar un NaN usemos un replace()\n",
        "gender_mapping = {\"Femal\": \"F\", \"female\": \"F\", \"Male\": \"M\"}\n",
        "df_cars_policies['gender'] = df_cars_policies['gender'].map(gender_mapping).fillna(df_cars_policies['gender'])\n",
        "df_cars_policies.gender.value_counts()"
      ]
    },
    {
      "cell_type": "code",
      "execution_count": 203,
      "id": "3f8ee5cb-50ab-48af-8a9f-9a389804033c",
      "metadata": {
        "id": "3f8ee5cb-50ab-48af-8a9f-9a389804033c"
      },
      "outputs": [
        {
          "data": {
            "text/plain": [
              "array([nan, 'F', 'M'], dtype=object)"
            ]
          },
          "execution_count": 203,
          "metadata": {},
          "output_type": "execute_result"
        }
      ],
      "source": [
        "# Corregir valores de género (CON OPCIÓN MAP y diccionario completo)\n",
        "# SI TENEMOS EL DICCIONARIO COMPLETO podemos usar solo el map() en vez del replace()\n",
        "gender_mapping = {\"Femal\": \"F\", \"female\": \"F\", \"Male\": \"M\", \"F\": \"F\", \"M\": \"M\"} #VERIFICAR CON replace() para dejarlo más limpio. Y así no tener que reescribir el diccionario entero.\n",
        "df_cars_policies[\"gender\"] = df_cars_policies[\"gender\"].map(gender_mapping)\n",
        "df_cars_policies.gender.unique()\n"
      ]
    },
    {
      "cell_type": "code",
      "execution_count": 204,
      "id": "fb9fd2d8",
      "metadata": {},
      "outputs": [
        {
          "data": {
            "text/plain": [
              "gender\n",
              "F    502\n",
              "M    452\n",
              "Name: count, dtype: int64"
            ]
          },
          "execution_count": 204,
          "metadata": {},
          "output_type": "execute_result"
        }
      ],
      "source": [
        "df_cars_policies.gender.value_counts()\n"
      ]
    },
    {
      "cell_type": "code",
      "execution_count": 205,
      "id": "1732bcb6",
      "metadata": {},
      "outputs": [
        {
          "data": {
            "text/plain": [
              "array(['Washington', 'Arizona', 'Nevada', 'California', 'Oregon', 'Cali',\n",
              "       'AZ', 'WA', nan], dtype=object)"
            ]
          },
          "execution_count": 205,
          "metadata": {},
          "output_type": "execute_result"
        }
      ],
      "source": [
        "# Verificar valores únicos columna state\n",
        "df_cars_policies.state.unique()"
      ]
    },
    {
      "cell_type": "code",
      "execution_count": 206,
      "id": "77e769fd",
      "metadata": {},
      "outputs": [
        {
          "data": {
            "text/plain": [
              "state\n",
              "Oregon        320\n",
              "California    211\n",
              "Arizona       186\n",
              "Cali          120\n",
              "Nevada         98\n",
              "Washington     81\n",
              "WA             30\n",
              "AZ             25\n",
              "Name: count, dtype: int64"
            ]
          },
          "execution_count": 206,
          "metadata": {},
          "output_type": "execute_result"
        }
      ],
      "source": [
        "df_cars_policies.state.value_counts()"
      ]
    },
    {
      "cell_type": "code",
      "execution_count": 207,
      "id": "5ba058c2",
      "metadata": {},
      "outputs": [
        {
          "data": {
            "text/plain": [
              "array(['Washington', 'Arizona', 'Nevada', 'California', 'Oregon', nan],\n",
              "      dtype=object)"
            ]
          },
          "execution_count": 207,
          "metadata": {},
          "output_type": "execute_result"
        }
      ],
      "source": [
        "# Corregir valores de states\n",
        "state_mapping = {\"WA\": \"Washington\", \"AZ\": \"Arizona\", \"Cali\": \"California\"}\n",
        "df_cars_policies[\"state\"] = df_cars_policies[\"state\"].map(state_mapping).fillna(df_cars_policies[\"state\"])\n",
        "df_cars_policies.state.unique()"
      ]
    },
    {
      "cell_type": "code",
      "execution_count": 208,
      "id": "bb0fb88f",
      "metadata": {},
      "outputs": [
        {
          "data": {
            "text/plain": [
              "state\n",
              "California    331\n",
              "Oregon        320\n",
              "Arizona       211\n",
              "Washington    111\n",
              "Nevada         98\n",
              "Name: count, dtype: int64"
            ]
          },
          "execution_count": 208,
          "metadata": {},
          "output_type": "execute_result"
        }
      ],
      "source": [
        "df_cars_policies.state.value_counts()"
      ]
    },
    {
      "cell_type": "code",
      "execution_count": 209,
      "id": "33cf5fcc",
      "metadata": {},
      "outputs": [
        {
          "data": {
            "text/plain": [
              "array(['Master', 'Bachelor', 'High School or Below', 'College', 'Doctor',\n",
              "       nan], dtype=object)"
            ]
          },
          "execution_count": 209,
          "metadata": {},
          "output_type": "execute_result"
        }
      ],
      "source": [
        "# Cambiar Bachelors por Bachelor en \"education\"\n",
        "df_cars_policies[\"education\"] = df_cars_policies[\"education\"].replace(\"Bachelors\", \"Bachelor\")\n",
        "df_cars_policies.education.unique()\n",
        "\n"
      ]
    },
    {
      "cell_type": "code",
      "execution_count": 210,
      "id": "b0f362f3",
      "metadata": {},
      "outputs": [
        {
          "data": {
            "text/plain": [
              "customer_lifetime_value\n",
              "445811.34     4\n",
              "251459.20     4\n",
              "272535.64     3\n",
              "578018.22     3\n",
              "684615.03     3\n",
              "             ..\n",
              "245357.08     1\n",
              "507566.27     1\n",
              "321497.94     1\n",
              "1227534.31    1\n",
              "899704.02     1\n",
              "Name: count, Length: 1027, dtype: int64"
            ]
          },
          "execution_count": 210,
          "metadata": {},
          "output_type": "execute_result"
        }
      ],
      "source": [
        "# Quitar porcentaje % de \"Customer lifetime value\"\n",
        "df_cars_policies[\"customer_lifetime_value\"] = df_cars_policies[\"customer_lifetime_value\"].replace('%', '', regex=True)\n",
        "df_cars_policies[\"customer_lifetime_value\"].value_counts()\n"
      ]
    },
    {
      "cell_type": "code",
      "execution_count": 211,
      "id": "16ba6b68",
      "metadata": {},
      "outputs": [
        {
          "data": {
            "text/plain": [
              "vehicle_class\n",
              "Four-Door Car    576\n",
              "Two-Door Car     205\n",
              "SUV              199\n",
              "Luxury            91\n",
              "Name: count, dtype: int64"
            ]
          },
          "execution_count": 211,
          "metadata": {},
          "output_type": "execute_result"
        }
      ],
      "source": [
        "# Cambiar en \"vehicle_class\", \"Sports Car\", \"Luxury SUV\" and \"Luxury Car\" por \"Luxury\"\n",
        "vehicle_class_fix = {\"Sports Car\": \"Luxury\", \"Luxury Car\": \"Luxury\", \"Luxury SUV\": \"Luxury\"}\n",
        "df_cars_policies[\"vehicle_class\"] = df_cars_policies[\"vehicle_class\"].replace(vehicle_class_fix)\n",
        "df_cars_policies.vehicle_class.value_counts()"
      ]
    },
    {
      "cell_type": "markdown",
      "id": "85ff78ce-0174-4890-9db3-8048b7d7d2d0",
      "metadata": {
        "id": "85ff78ce-0174-4890-9db3-8048b7d7d2d0"
      },
      "source": [
        "## Exercise 3: Formatting data types"
      ]
    },
    {
      "cell_type": "markdown",
      "id": "b91c2cf8-79a2-4baf-9f65-ff2fb22270bd",
      "metadata": {
        "id": "b91c2cf8-79a2-4baf-9f65-ff2fb22270bd"
      },
      "source": [
        "The data types of many columns in the dataset appear to be incorrect. This could impact the accuracy of our analysis. To ensure accurate analysis, we need to correct the data types of these columns. Please update the data types of the columns as appropriate."
      ]
    },
    {
      "cell_type": "markdown",
      "id": "43e5d853-ff9e-43b2-9d92-aef2f78764f3",
      "metadata": {
        "id": "43e5d853-ff9e-43b2-9d92-aef2f78764f3"
      },
      "source": [
        "It is important to note that this exercise does not involve handling null values (NaN or None)."
      ]
    },
    {
      "cell_type": "markdown",
      "id": "329ca691-9196-4419-8969-3596746237a1",
      "metadata": {
        "id": "329ca691-9196-4419-8969-3596746237a1"
      },
      "source": [
        "*Hint*:\n",
        "- *Customer lifetime value should be numeric*\n",
        "- *Number of open complaints has an incorrect format. Look at the different values it takes with `unique()` and take the middle value. As an example, 1/5/00 should be 5. Number of open complaints is a string - remember you can use `split()` to deal with it and take the number you need. Finally, since it should be numeric, cast the column to be in its proper type.*"
      ]
    },
    {
      "cell_type": "code",
      "execution_count": 212,
      "id": "eb8f5991-73e9-405f-bf1c-6b7c589379a9",
      "metadata": {
        "id": "eb8f5991-73e9-405f-bf1c-6b7c589379a9"
      },
      "outputs": [
        {
          "data": {
            "text/plain": [
              "array([nan, '697953.59', '1288743.17', ..., '2031499.76', '323912.47',\n",
              "       '899704.02'], dtype=object)"
            ]
          },
          "execution_count": 212,
          "metadata": {},
          "output_type": "execute_result"
        }
      ],
      "source": [
        "# Customer lifetime value convert to numeric\n",
        "df_cars_policies[\"customer_lifetime_value\"].unique()"
      ]
    },
    {
      "cell_type": "code",
      "execution_count": 213,
      "id": "e38c95a7",
      "metadata": {},
      "outputs": [
        {
          "data": {
            "text/plain": [
              "array([       nan,  697953.59, 1288743.17, ..., 2031499.76,  323912.47,\n",
              "        899704.02])"
            ]
          },
          "execution_count": 213,
          "metadata": {},
          "output_type": "execute_result"
        }
      ],
      "source": [
        "# Convert the column to numeric (float)\n",
        "df_cars_policies[\"customer_lifetime_value\"] = pd.to_numeric(df_cars_policies[\"customer_lifetime_value\"], errors=\"coerce\")\n",
        "\n",
        "# Check the unique values after conversion\n",
        "df_cars_policies[\"customer_lifetime_value\"].unique()"
      ]
    },
    {
      "cell_type": "code",
      "execution_count": 214,
      "id": "645a0def",
      "metadata": {},
      "outputs": [
        {
          "data": {
            "text/plain": [
              "number_of_open_complaints\n",
              "1/0/00    830\n",
              "1/1/00    138\n",
              "1/2/00     50\n",
              "1/3/00     34\n",
              "1/4/00     13\n",
              "1/5/00      6\n",
              "Name: count, dtype: int64"
            ]
          },
          "execution_count": 214,
          "metadata": {},
          "output_type": "execute_result"
        }
      ],
      "source": [
        "# Number of open complaints correct format\n",
        "df_cars_policies[\"number_of_open_complaints\"].value_counts()\n"
      ]
    },
    {
      "cell_type": "code",
      "execution_count": 215,
      "id": "6ecb81d5",
      "metadata": {},
      "outputs": [
        {
          "data": {
            "text/plain": [
              "0         0\n",
              "1         0\n",
              "2         0\n",
              "3         0\n",
              "4         0\n",
              "       ... \n",
              "4003    NaN\n",
              "4004    NaN\n",
              "4005    NaN\n",
              "4006    NaN\n",
              "4007    NaN\n",
              "Name: number_of_open_complaints, Length: 4008, dtype: object"
            ]
          },
          "execution_count": 215,
          "metadata": {},
          "output_type": "execute_result"
        }
      ],
      "source": [
        "df_cars_policies['number_of_open_complaints'].str.split('/').str[1]"
      ]
    },
    {
      "cell_type": "code",
      "execution_count": 216,
      "id": "9cc9fdaf",
      "metadata": {},
      "outputs": [
        {
          "data": {
            "text/plain": [
              "number_of_open_complaints\n",
              "0.0    830\n",
              "1.0    138\n",
              "2.0     50\n",
              "3.0     34\n",
              "4.0     13\n",
              "5.0      6\n",
              "Name: count, dtype: int64"
            ]
          },
          "execution_count": 216,
          "metadata": {},
          "output_type": "execute_result"
        }
      ],
      "source": [
        "df_cars_policies['number_of_open_complaints'] = df_cars_policies['number_of_open_complaints'].str.split('/').str[1]\n",
        "df_cars_policies[\"number_of_open_complaints\"] = pd.to_numeric(df_cars_policies[\"number_of_open_complaints\"], errors='coerce', )\n",
        "df_cars_policies.number_of_open_complaints.value_counts()"
      ]
    },
    {
      "cell_type": "code",
      "execution_count": 233,
      "id": "aa1287c4",
      "metadata": {},
      "outputs": [
        {
          "data": {
            "text/plain": [
              "array([ 0.,  2.,  1.,  3.,  5.,  4., nan])"
            ]
          },
          "execution_count": 233,
          "metadata": {},
          "output_type": "execute_result"
        }
      ],
      "source": [
        "df_cars_policies.number_of_open_complaints.unique()"
      ]
    },
    {
      "cell_type": "code",
      "execution_count": 242,
      "id": "185aff68",
      "metadata": {},
      "outputs": [
        {
          "name": "stdout",
          "output_type": "stream",
          "text": [
            "<class 'pandas.core.series.Series'>\n",
            "RangeIndex: 4008 entries, 0 to 4007\n",
            "Series name: number_of_open_complaints\n",
            "Non-Null Count  Dtype  \n",
            "--------------  -----  \n",
            "1071 non-null   float64\n",
            "dtypes: float64(1)\n",
            "memory usage: 31.4 KB\n"
          ]
        }
      ],
      "source": [
        "df_cars_policies[\"number_of_open_complaints\"] = df_cars_policies.number_of_open_complaints.astype(int, errors= 'ignore') #Aquí no consigue convertirlos a integers, da algún tipo de error con los nans.\n",
        "df_cars_policies[\"number_of_open_complaints\"].info()"
      ]
    },
    {
      "cell_type": "code",
      "execution_count": 240,
      "id": "b53afaf4",
      "metadata": {},
      "outputs": [
        {
          "data": {
            "text/html": [
              "<div>\n",
              "<style scoped>\n",
              "    .dataframe tbody tr th:only-of-type {\n",
              "        vertical-align: middle;\n",
              "    }\n",
              "\n",
              "    .dataframe tbody tr th {\n",
              "        vertical-align: top;\n",
              "    }\n",
              "\n",
              "    .dataframe thead th {\n",
              "        text-align: right;\n",
              "    }\n",
              "</style>\n",
              "<table border=\"1\" class=\"dataframe\">\n",
              "  <thead>\n",
              "    <tr style=\"text-align: right;\">\n",
              "      <th></th>\n",
              "      <th>customer</th>\n",
              "      <th>state</th>\n",
              "      <th>gender</th>\n",
              "      <th>education</th>\n",
              "      <th>customer_lifetime_value</th>\n",
              "      <th>income</th>\n",
              "      <th>monthly_premium_auto</th>\n",
              "      <th>number_of_open_complaints</th>\n",
              "      <th>policy_type</th>\n",
              "      <th>vehicle_class</th>\n",
              "      <th>total_claim_amount</th>\n",
              "    </tr>\n",
              "  </thead>\n",
              "  <tbody>\n",
              "    <tr>\n",
              "      <th>0</th>\n",
              "      <td>RB50392</td>\n",
              "      <td>Washington</td>\n",
              "      <td>NaN</td>\n",
              "      <td>Master</td>\n",
              "      <td>NaN</td>\n",
              "      <td>0.0</td>\n",
              "      <td>1000.0</td>\n",
              "      <td>0.0</td>\n",
              "      <td>Personal Auto</td>\n",
              "      <td>Four-Door Car</td>\n",
              "      <td>2.704934</td>\n",
              "    </tr>\n",
              "    <tr>\n",
              "      <th>1</th>\n",
              "      <td>QZ44356</td>\n",
              "      <td>Arizona</td>\n",
              "      <td>F</td>\n",
              "      <td>Bachelor</td>\n",
              "      <td>697953.59</td>\n",
              "      <td>0.0</td>\n",
              "      <td>94.0</td>\n",
              "      <td>0.0</td>\n",
              "      <td>Personal Auto</td>\n",
              "      <td>Four-Door Car</td>\n",
              "      <td>1131.464935</td>\n",
              "    </tr>\n",
              "    <tr>\n",
              "      <th>2</th>\n",
              "      <td>AI49188</td>\n",
              "      <td>Nevada</td>\n",
              "      <td>F</td>\n",
              "      <td>Bachelor</td>\n",
              "      <td>1288743.17</td>\n",
              "      <td>48767.0</td>\n",
              "      <td>108.0</td>\n",
              "      <td>0.0</td>\n",
              "      <td>Personal Auto</td>\n",
              "      <td>Two-Door Car</td>\n",
              "      <td>566.472247</td>\n",
              "    </tr>\n",
              "    <tr>\n",
              "      <th>3</th>\n",
              "      <td>WW63253</td>\n",
              "      <td>California</td>\n",
              "      <td>M</td>\n",
              "      <td>Bachelor</td>\n",
              "      <td>764586.18</td>\n",
              "      <td>0.0</td>\n",
              "      <td>106.0</td>\n",
              "      <td>0.0</td>\n",
              "      <td>Corporate Auto</td>\n",
              "      <td>SUV</td>\n",
              "      <td>529.881344</td>\n",
              "    </tr>\n",
              "    <tr>\n",
              "      <th>4</th>\n",
              "      <td>GA49547</td>\n",
              "      <td>Washington</td>\n",
              "      <td>M</td>\n",
              "      <td>High School or Below</td>\n",
              "      <td>536307.65</td>\n",
              "      <td>36357.0</td>\n",
              "      <td>68.0</td>\n",
              "      <td>0.0</td>\n",
              "      <td>Personal Auto</td>\n",
              "      <td>Four-Door Car</td>\n",
              "      <td>17.269323</td>\n",
              "    </tr>\n",
              "    <tr>\n",
              "      <th>5</th>\n",
              "      <td>OC83172</td>\n",
              "      <td>Oregon</td>\n",
              "      <td>F</td>\n",
              "      <td>Bachelor</td>\n",
              "      <td>825629.78</td>\n",
              "      <td>62902.0</td>\n",
              "      <td>69.0</td>\n",
              "      <td>0.0</td>\n",
              "      <td>Personal Auto</td>\n",
              "      <td>Two-Door Car</td>\n",
              "      <td>159.383042</td>\n",
              "    </tr>\n",
              "    <tr>\n",
              "      <th>6</th>\n",
              "      <td>XZ87318</td>\n",
              "      <td>Oregon</td>\n",
              "      <td>F</td>\n",
              "      <td>College</td>\n",
              "      <td>538089.86</td>\n",
              "      <td>55350.0</td>\n",
              "      <td>67.0</td>\n",
              "      <td>0.0</td>\n",
              "      <td>Corporate Auto</td>\n",
              "      <td>Four-Door Car</td>\n",
              "      <td>321.600000</td>\n",
              "    </tr>\n",
              "    <tr>\n",
              "      <th>7</th>\n",
              "      <td>CF85061</td>\n",
              "      <td>Arizona</td>\n",
              "      <td>M</td>\n",
              "      <td>Master</td>\n",
              "      <td>721610.03</td>\n",
              "      <td>0.0</td>\n",
              "      <td>101.0</td>\n",
              "      <td>0.0</td>\n",
              "      <td>Corporate Auto</td>\n",
              "      <td>Four-Door Car</td>\n",
              "      <td>363.029680</td>\n",
              "    </tr>\n",
              "    <tr>\n",
              "      <th>8</th>\n",
              "      <td>DY87989</td>\n",
              "      <td>Oregon</td>\n",
              "      <td>M</td>\n",
              "      <td>Bachelor</td>\n",
              "      <td>2412750.40</td>\n",
              "      <td>14072.0</td>\n",
              "      <td>71.0</td>\n",
              "      <td>0.0</td>\n",
              "      <td>Corporate Auto</td>\n",
              "      <td>Four-Door Car</td>\n",
              "      <td>511.200000</td>\n",
              "    </tr>\n",
              "    <tr>\n",
              "      <th>9</th>\n",
              "      <td>BQ94931</td>\n",
              "      <td>Oregon</td>\n",
              "      <td>F</td>\n",
              "      <td>College</td>\n",
              "      <td>738817.81</td>\n",
              "      <td>28812.0</td>\n",
              "      <td>93.0</td>\n",
              "      <td>0.0</td>\n",
              "      <td>Special Auto</td>\n",
              "      <td>Four-Door Car</td>\n",
              "      <td>425.527834</td>\n",
              "    </tr>\n",
              "  </tbody>\n",
              "</table>\n",
              "</div>"
            ],
            "text/plain": [
              "  customer       state gender             education  customer_lifetime_value  \\\n",
              "0  RB50392  Washington    NaN                Master                      NaN   \n",
              "1  QZ44356     Arizona      F              Bachelor                697953.59   \n",
              "2  AI49188      Nevada      F              Bachelor               1288743.17   \n",
              "3  WW63253  California      M              Bachelor                764586.18   \n",
              "4  GA49547  Washington      M  High School or Below                536307.65   \n",
              "5  OC83172      Oregon      F              Bachelor                825629.78   \n",
              "6  XZ87318      Oregon      F               College                538089.86   \n",
              "7  CF85061     Arizona      M                Master                721610.03   \n",
              "8  DY87989      Oregon      M              Bachelor               2412750.40   \n",
              "9  BQ94931      Oregon      F               College                738817.81   \n",
              "\n",
              "    income  monthly_premium_auto  number_of_open_complaints     policy_type  \\\n",
              "0      0.0                1000.0                        0.0   Personal Auto   \n",
              "1      0.0                  94.0                        0.0   Personal Auto   \n",
              "2  48767.0                 108.0                        0.0   Personal Auto   \n",
              "3      0.0                 106.0                        0.0  Corporate Auto   \n",
              "4  36357.0                  68.0                        0.0   Personal Auto   \n",
              "5  62902.0                  69.0                        0.0   Personal Auto   \n",
              "6  55350.0                  67.0                        0.0  Corporate Auto   \n",
              "7      0.0                 101.0                        0.0  Corporate Auto   \n",
              "8  14072.0                  71.0                        0.0  Corporate Auto   \n",
              "9  28812.0                  93.0                        0.0    Special Auto   \n",
              "\n",
              "   vehicle_class  total_claim_amount  \n",
              "0  Four-Door Car            2.704934  \n",
              "1  Four-Door Car         1131.464935  \n",
              "2   Two-Door Car          566.472247  \n",
              "3            SUV          529.881344  \n",
              "4  Four-Door Car           17.269323  \n",
              "5   Two-Door Car          159.383042  \n",
              "6  Four-Door Car          321.600000  \n",
              "7  Four-Door Car          363.029680  \n",
              "8  Four-Door Car          511.200000  \n",
              "9  Four-Door Car          425.527834  "
            ]
          },
          "execution_count": 240,
          "metadata": {},
          "output_type": "execute_result"
        }
      ],
      "source": [
        "df_cars_policies.head(10)"
      ]
    },
    {
      "cell_type": "markdown",
      "id": "14c52e28-2d0c-4dd2-8bd5-3476e34fadc1",
      "metadata": {
        "id": "14c52e28-2d0c-4dd2-8bd5-3476e34fadc1"
      },
      "source": [
        "## Exercise 4: Dealing with Null values"
      ]
    },
    {
      "cell_type": "markdown",
      "id": "34b9a20f-7d32-4417-975e-1b4dfb0e16cd",
      "metadata": {
        "id": "34b9a20f-7d32-4417-975e-1b4dfb0e16cd"
      },
      "source": [
        "Identify any columns with null or missing values. Identify how many null values each column has. You can use the `isnull()` function in pandas to find columns with null values.\n",
        "\n",
        "Decide on a strategy for handling the null values. There are several options, including:\n",
        "\n",
        "- Drop the rows or columns with null values\n",
        "- Fill the null values with a specific value (such as the column mean or median for numerical variables, and mode for categorical variables)\n",
        "- Fill the null values with the previous or next value in the column\n",
        "- Fill the null values based on a more complex algorithm or model (note: we haven't covered this yet)\n",
        "\n",
        "Implement your chosen strategy to handle the null values. You can use the `fillna()` function in pandas to fill null values or `dropna()` function to drop null values.\n",
        "\n",
        "Verify that your strategy has successfully handled the null values. You can use the `isnull()` function again to check if there are still null values in the dataset.\n",
        "\n",
        "Remember to document your process and explain your reasoning for choosing a particular strategy for handling null values.\n",
        "\n",
        "After formatting data types, as a last step, convert all the numeric variables to integers."
      ]
    },
    {
      "cell_type": "code",
      "execution_count": 217,
      "id": "f184fc35-7831-4836-a0a5-e7f99e01b40e",
      "metadata": {
        "id": "f184fc35-7831-4836-a0a5-e7f99e01b40e"
      },
      "outputs": [],
      "source": [
        "# Your code here"
      ]
    },
    {
      "cell_type": "markdown",
      "id": "98416351-e999-4156-9834-9b00a311adfa",
      "metadata": {
        "id": "98416351-e999-4156-9834-9b00a311adfa"
      },
      "source": [
        "## Exercise 5: Dealing with duplicates"
      ]
    },
    {
      "cell_type": "markdown",
      "id": "ea0816a7-a18e-4d4c-b667-a8452a800bd1",
      "metadata": {
        "id": "ea0816a7-a18e-4d4c-b667-a8452a800bd1"
      },
      "source": [
        "Use the `.duplicated()` method to identify any duplicate rows in the dataframe.\n",
        "\n",
        "Decide on a strategy for handling the duplicates. Options include:\n",
        "- Dropping all duplicate rows\n",
        "- Keeping only the first occurrence of each duplicated row\n",
        "- Keeping only the last occurrence of each duplicated row\n",
        "- Dropping duplicates based on a subset of columns\n",
        "- Dropping duplicates based on a specific column\n",
        "\n",
        "Implement your chosen strategy using the `drop_duplicates()` function.\n",
        "\n",
        "Verify that your strategy has successfully handled the duplicates by checking for duplicates again using `.duplicated()`.\n",
        "\n",
        "Remember to document your process and explain your reasoning for choosing a particular strategy for handling duplicates.\n",
        "\n",
        "Save the cleaned dataset to a new CSV file.\n",
        "\n",
        "*Hint*: *after dropping duplicates, reset the index to ensure consistency*."
      ]
    },
    {
      "cell_type": "code",
      "execution_count": 218,
      "id": "1929362c-47ed-47cb-baca-358b78d401a0",
      "metadata": {
        "id": "1929362c-47ed-47cb-baca-358b78d401a0"
      },
      "outputs": [],
      "source": [
        "# Your code here"
      ]
    },
    {
      "cell_type": "markdown",
      "id": "60840701-4783-40e2-b4d8-55303f9100c9",
      "metadata": {
        "id": "60840701-4783-40e2-b4d8-55303f9100c9"
      },
      "source": [
        "# Bonus: Challenge 2: creating functions on a separate `py` file"
      ]
    },
    {
      "cell_type": "markdown",
      "id": "9d1adb3a-17cf-4899-8041-da21a4337fb4",
      "metadata": {
        "id": "9d1adb3a-17cf-4899-8041-da21a4337fb4"
      },
      "source": [
        "Put all the data cleaning and formatting steps into functions, and create a main function that performs all the cleaning and formatting.\n",
        "\n",
        "Write these functions in separate .py file(s). By putting these steps into functions, we can make the code more modular and easier to maintain."
      ]
    },
    {
      "cell_type": "markdown",
      "id": "0e170dc2-b62c-417a-8248-e63ed18a70c4",
      "metadata": {
        "id": "0e170dc2-b62c-417a-8248-e63ed18a70c4"
      },
      "source": [
        "*Hint: autoreload module is a utility module in Python that allows you to automatically reload modules in the current session when changes are made to the source code. This can be useful in situations where you are actively developing code and want to see the effects of changes you make without having to constantly restart the Python interpreter or Jupyter Notebook kernel.*"
      ]
    },
    {
      "cell_type": "code",
      "execution_count": 219,
      "id": "a52c6dfc-cd11-4d01-bda4-f719fa33e9a4",
      "metadata": {
        "id": "a52c6dfc-cd11-4d01-bda4-f719fa33e9a4"
      },
      "outputs": [],
      "source": [
        "# Your code here"
      ]
    },
    {
      "cell_type": "markdown",
      "id": "80f846bb-3f5e-4ca2-96c0-900728daca5a",
      "metadata": {
        "id": "80f846bb-3f5e-4ca2-96c0-900728daca5a",
        "tags": []
      },
      "source": [
        "# Bonus: Challenge 3: Analyzing Clean and Formated Data"
      ]
    },
    {
      "cell_type": "markdown",
      "id": "9021630e-cc90-446c-b5bd-264d6c864207",
      "metadata": {
        "id": "9021630e-cc90-446c-b5bd-264d6c864207"
      },
      "source": [
        "You have been tasked with analyzing the data to identify potential areas for improving customer retention and profitability. Your goal is to identify customers with a high policy claim amount and a low customer lifetime value.\n",
        "\n",
        "In the Pandas Lab, we only looked at high policy claim amounts because we couldn't look into low customer lifetime values. If we had tried to work with that column, we wouldn't have been able to because customer lifetime value wasn't clean and in its proper format. So after cleaning and formatting the data, let's get some more interesting insights!\n",
        "\n",
        "Instructions:\n",
        "\n",
        "- Review the statistics again for total claim amount and customer lifetime value to gain an understanding of the data.\n",
        "- To identify potential areas for improving customer retention and profitability, we want to focus on customers with a high policy claim amount and a low customer lifetime value. Consider customers with a high policy claim amount to be those in the top 25% of the total claim amount, and clients with a low customer lifetime value to be those in the bottom 25% of the customer lifetime value. Create a pandas DataFrame object that contains information about customers with a policy claim amount greater than the 75th percentile and a customer lifetime value in the bottom 25th percentile.\n",
        "- Use DataFrame methods to calculate summary statistics about the high policy claim amount and low customer lifetime value data. To do so, select both columns of the dataframe simultaneously and pass it to the `.describe()` method. This will give you descriptive statistics, such as mean, median, standard deviation, minimum and maximum values for both columns at the same time, allowing you to compare and analyze their characteristics."
      ]
    },
    {
      "cell_type": "code",
      "execution_count": 220,
      "id": "211e82b5-461a-4d6f-8a23-4deccb84173c",
      "metadata": {
        "id": "211e82b5-461a-4d6f-8a23-4deccb84173c"
      },
      "outputs": [],
      "source": [
        "# Your code here"
      ]
    }
  ],
  "metadata": {
    "colab": {
      "provenance": []
    },
    "kernelspec": {
      "display_name": "Python 3 (ipykernel)",
      "language": "python",
      "name": "python3"
    },
    "language_info": {
      "codemirror_mode": {
        "name": "ipython",
        "version": 3
      },
      "file_extension": ".py",
      "mimetype": "text/x-python",
      "name": "python",
      "nbconvert_exporter": "python",
      "pygments_lexer": "ipython3",
      "version": "3.12.4"
    }
  },
  "nbformat": 4,
  "nbformat_minor": 5
}
